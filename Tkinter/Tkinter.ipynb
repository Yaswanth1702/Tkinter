{
 "cells": [
  {
   "cell_type": "markdown",
   "id": "57e14d0f",
   "metadata": {},
   "source": [
    "# Introduction to Tkinter"
   ]
  },
  {
   "cell_type": "code",
   "execution_count": 1,
   "id": "b41108ae",
   "metadata": {},
   "outputs": [],
   "source": [
    "#from tkinter import * #importing everything from tkinter\n",
    "import tkinter as tk #importing tkinter with alias name tk"
   ]
  },
  {
   "cell_type": "code",
   "execution_count": 2,
   "id": "d598252d",
   "metadata": {},
   "outputs": [],
   "source": [
    "#window=Tk() #Creating the main window\n",
    "window=tk.Tk() #Creating the main window using tkinter alias name"
   ]
  },
  {
   "cell_type": "code",
   "execution_count": 3,
   "id": "c76e069d",
   "metadata": {},
   "outputs": [],
   "source": [
    "window.mainloop() #The mainloop() method starts the Tkinter event loop, which allows the window to respond to user interactions and events."
   ]
  },
  {
   "cell_type": "markdown",
   "id": "31f4cfcd",
   "metadata": {},
   "source": [
    "# Customizing the window"
   ]
  },
  {
   "cell_type": "code",
   "execution_count": 1,
   "id": "b3c0881a",
   "metadata": {},
   "outputs": [],
   "source": [
    "from tkinter import *"
   ]
  },
  {
   "cell_type": "code",
   "execution_count": 2,
   "id": "2dd927e6",
   "metadata": {},
   "outputs": [],
   "source": [
    "window=Tk()"
   ]
  },
  {
   "cell_type": "code",
   "execution_count": 3,
   "id": "ce1eab25",
   "metadata": {},
   "outputs": [
    {
     "data": {
      "text/plain": [
       "''"
      ]
     },
     "execution_count": 3,
     "metadata": {},
     "output_type": "execute_result"
    }
   ],
   "source": [
    "window.title(\"My Window\")  #Set the title of the window\n",
    "window.geometry(\"400x300\")  \n",
    "#Set the size of the window (\"width x height\") and it should be given as a string"
   ]
  },
  {
   "cell_type": "code",
   "execution_count": 3,
   "id": "ddb2df38",
   "metadata": {},
   "outputs": [],
   "source": [
    "window.maxsize(1000,800) #Set the maximum dimensions of the window (width,height)\n",
    "# i.e, we can't enlarge the window beyond the limit that we specified and it shouldn't be given as a string"
   ]
  },
  {
   "cell_type": "code",
   "execution_count": 4,
   "id": "42e69d34",
   "metadata": {},
   "outputs": [],
   "source": [
    "window.mainloop()"
   ]
  },
  {
   "cell_type": "markdown",
   "id": "024d9f0b",
   "metadata": {},
   "source": [
    "# Tkinter widgets\n",
    "# Creating Button "
   ]
  },
  {
   "cell_type": "code",
   "execution_count": 1,
   "id": "222ef3fe",
   "metadata": {},
   "outputs": [],
   "source": [
    "from tkinter import *\n",
    "from tkinter import messagebox"
   ]
  },
  {
   "cell_type": "code",
   "execution_count": 2,
   "id": "02a0571b",
   "metadata": {},
   "outputs": [],
   "source": [
    "window=Tk()\n",
    "window.title(\"My App\")\n",
    "window.geometry(\"500x500\")\n",
    "label=Label(window,text=\"Who is the TOPPER ?\")\n",
    "label.pack()\n",
    "def message1():\n",
    "    messagebox.showwarning(\"Hello\",\"Abhishek is not the Topper\")\n",
    "def message2():\n",
    "    messagebox.showinfo(\"Hello\",\"Jahnavi is the Topper\")\n",
    "def message3():\n",
    "    messagebox.showwarning(\"Hello\",\"Shimlan is not the Topper\")\n",
    "def message4():\n",
    "    messagebox.showwarning(\"Hello\",\"Vennela is not the Topper\")\n",
    "B1=Button(window,text=\"Abhi\",width=4,height=2,relief=GROOVE,command=message1,activebackground=\"red\",\n",
    "          activeforeground=\"black\",bg=\"blue\",fg=\"gold\",bd=3,font=\"Broadway 14 underline\",cursor=\"circle\")\n",
    "\n",
    "B2=Button(window,text=\"Jahnavi\",relief=SUNKEN,command=message2,activebackground=\"Green\",\n",
    "          activeforeground=\"black\",bg=\"blue\",fg=\"gold\",bd=3,font=\"Magneto 15\",padx=20,pady=20,cursor=\"man\")\n",
    "\n",
    "B3=Button(window,text=\"Shimlan\",relief=RAISED,command=message3,activebackground=\"white\",\n",
    "          activeforeground=\"black\",bg=\"blue\",fg=\"gold\",bd=3,font=\"Times 14 italic\",state=ACTIVE,cursor=\"star\")\n",
    "\n",
    "B4=Button(window,text=\"Vennela\",relief=RIDGE,command=message4,activebackground=\"pink\",\n",
    "          activeforeground=\"black\",bg=\"blue\",fg=\"gold\",bd=3,font=\"Algerian 16 bold\",cursor=\"target\")\n",
    "B1.pack()\n",
    "B2.pack()\n",
    "B3.pack()\n",
    "B4.pack()"
   ]
  },
  {
   "cell_type": "code",
   "execution_count": 3,
   "id": "37d78fbb",
   "metadata": {},
   "outputs": [],
   "source": [
    "window.mainloop()"
   ]
  },
  {
   "cell_type": "markdown",
   "id": "78768028",
   "metadata": {},
   "source": [
    "# Creating Canvas"
   ]
  },
  {
   "cell_type": "code",
   "execution_count": 1,
   "id": "b45feb60",
   "metadata": {},
   "outputs": [],
   "source": [
    "from tkinter import *"
   ]
  },
  {
   "cell_type": "code",
   "execution_count": 2,
   "id": "6a37f10a",
   "metadata": {},
   "outputs": [],
   "source": [
    "window=Tk()\n",
    "window.title(\"Canvas\")\n",
    "window.geometry(\"500x500\")\n",
    "C=Canvas(window,bg=\"white\",relief=SUNKEN,bd=4,highlightcolor=\"red\",height=500,width=500,cursor=\"spider\")\n",
    "C.create_rectangle(150,200,350,300, fill=\"gold\")\n",
    "C.create_line(0,0,150,200,fill=\"black\")\n",
    "C.create_line(0,500,150,300,fill=\"black\")\n",
    "C.create_line(350,200,500,0,fill=\"black\")\n",
    "C.create_line(350,300,500,500,fill=\"black\")\n",
    "C.create_oval(200,50,300,100, fill=\"blue\")\n",
    "C.create_arc(150,350,350,450, start=0,extent=270,fill=\"red\")\n",
    "C.create_polygon(75,200,35,250,55,300,90,300,110,250, fill=\"green\")\n",
    "C.create_text(425,250, text=\"Drawing Methods in Tkinter\",fill=\"purple\", font=\"Times 8 bold\")\n",
    "C.pack()"
   ]
  },
  {
   "cell_type": "code",
   "execution_count": 3,
   "id": "8177e052",
   "metadata": {},
   "outputs": [],
   "source": [
    "window.mainloop()"
   ]
  },
  {
   "cell_type": "markdown",
   "id": "dc22b1b9",
   "metadata": {},
   "source": [
    "\n",
    "# Creating Checkbutton"
   ]
  },
  {
   "cell_type": "code",
   "execution_count": 2,
   "id": "f64ca912",
   "metadata": {},
   "outputs": [],
   "source": [
    "from tkinter import *"
   ]
  },
  {
   "cell_type": "code",
   "execution_count": 2,
   "id": "40785593",
   "metadata": {},
   "outputs": [],
   "source": [
    "window=Tk()\n",
    "window.title(\"Checkbutton\")\n",
    "window.geometry(\"400x300\")\n",
    "var1=IntVar()\n",
    "var2=IntVar()\n",
    "var3=IntVar()\n",
    "Cb1=Checkbutton(window,text=\"This is the Checkbutton1\",variable=var1,bg=\"blue\",selectcolor=\"orange\",\n",
    "                font=\"Times 14 underline\",height=2,width=20)\n",
    "Cb2=Checkbutton(window,text=\"This is the Checkbutton2\",variable=var2,relief=RIDGE,bg=\"green\",\n",
    "                font=\"Algerian 14 italic\",onvalue=10,offvalue=9)\n",
    "Cb3=Checkbutton(window,bitmap=\"error\",variable=var3,bg=\"gray\",\n",
    "                fg=\"red\",highlightcolor=\"gold\") #Built-in bitmaps are \"error\",\"info\",\"question\",\"warning\"\n",
    "Cb1.pack()\n",
    "Cb2.pack()\n",
    "Cb3.pack()"
   ]
  },
  {
   "cell_type": "code",
   "execution_count": 3,
   "id": "5feeaa9a",
   "metadata": {},
   "outputs": [],
   "source": [
    "window.mainloop()"
   ]
  },
  {
   "cell_type": "markdown",
   "id": "b9631334",
   "metadata": {},
   "source": [
    "# Creating Entry"
   ]
  },
  {
   "cell_type": "code",
   "execution_count": 1,
   "id": "2b0403a4",
   "metadata": {},
   "outputs": [],
   "source": [
    "from tkinter import *\n",
    "from tkinter import messagebox"
   ]
  },
  {
   "cell_type": "code",
   "execution_count": 2,
   "id": "009fe479",
   "metadata": {},
   "outputs": [],
   "source": [
    "window=Tk()\n",
    "window.title(\"Entry\")\n",
    "window.geometry(\"500x400\")\n",
    "background_image = PhotoImage(file=\"A.png\")\n",
    "C=Canvas(window,width=500,height=400)\n",
    "C.pack(fill=\"both\",expand=True)\n",
    "C.create_image(0,0,image=background_image)\n",
    "#L=Label(window,image=background_image)\n",
    "#L.place(x=0,y=0,relwidth=1,relheight=1)\n",
    "def fun():\n",
    "    Username=E1.get()\n",
    "    Password=E2.get()\n",
    "    if Username==\"Yaswanth\" and Password==\"1234\":\n",
    "        messagebox.showinfo(\"Hello\",\"Welcome! Yaswanth\")\n",
    "    elif Username==\"Shimlan\" and Password==\"1234\":\n",
    "        messagebox.showinfo(\"Hello\",\"Welcome! Shimlan\")\n",
    "    elif Username==\"Abhishek\" and Password==\"1234\":\n",
    "        messagebox.showinfo(\"Hello\",\"Welcome! Abhishek\")\n",
    "    elif Username==\"Jahnavi\" and Password==\"1234\":\n",
    "        messagebox.showinfo(\"Hello\",\"Welcome! Jahnavi\")\n",
    "    elif Username==\"Vennela\" and Password==\"1234\":\n",
    "        messagebox.showinfo(\"Hello\",\"Welcome! Vennela\")\n",
    "    else:\n",
    "        messagebox.showwarning(\"Hello\",\"Invalid Username/Password\")\n",
    "C.create_text(70,60,text=\"Username\",font=\"Times 13\")\n",
    "C.create_text(70,90,text=\"Password\",font=\"Times 13\")\n",
    "#L1=Label(window,text=\"Username\",font=\"Arial 9\")\n",
    "#L2=Label(window,text=\"Password\",font=\"Arial 9\")\n",
    "#L1.place(x=50,y=50)\n",
    "#L2.place(x=50,y=80)\n",
    "E1=Entry(window)\n",
    "E2=Entry(window)\n",
    "E1.place(x=120,y=50)\n",
    "E2.place(x=120,y=80)\n",
    "Cb=Checkbutton(window,text=\"*I agree to the terms and conditions\",fg=\"black\")\n",
    "Cb.place(x=40,y=120)\n",
    "B=Button(window,text=\"Submit\",relief=RAISED,activebackground=\"gray\",command=fun)\n",
    "B.place(x=200,y=160)"
   ]
  },
  {
   "cell_type": "code",
   "execution_count": 3,
   "id": "7ec4ffdb",
   "metadata": {},
   "outputs": [],
   "source": [
    "window.mainloop()"
   ]
  },
  {
   "cell_type": "code",
   "execution_count": 4,
   "id": "a748a8c6",
   "metadata": {},
   "outputs": [],
   "source": [
    "from tkinter import *\n",
    "from tkinter import messagebox\n",
    "from tkinter import PhotoImage"
   ]
  },
  {
   "cell_type": "code",
   "execution_count": 5,
   "id": "19cb7973",
   "metadata": {},
   "outputs": [],
   "source": [
    "window=Tk()\n",
    "window.title(\"Entry\")\n",
    "window.geometry(\"500x400\")\n",
    "background_image = PhotoImage(file=\"A.png\")\n",
    "C=Canvas(window,width=500,height=400)\n",
    "C.pack(fill=\"both\",expand=True)\n",
    "C.create_image(0,0,image=background_image)\n",
    "#L=Label(window,image=background_image)\n",
    "#L.place(x=0,y=0,relwidth=1,relheight=1)\n",
    "def fun():\n",
    "    Username=E1.get()\n",
    "    Password=E2.get()\n",
    "    if Username==\"Yaswanth\" and Password==\"1234\":\n",
    "        messagebox.showinfo(\"Hello\",\"Welcome! Yaswanth\")\n",
    "    elif Username==\"Shimlan\" and Password==\"1234\":\n",
    "        messagebox.showinfo(\"Hello\",\"Welcome! Shimlan\")\n",
    "    elif Username==\"Abhishek\" and Password==\"1234\":\n",
    "        messagebox.showinfo(\"Hello\",\"Welcome! Abhishek\")\n",
    "    elif Username==\"Jahnavi\" and Password==\"1234\":\n",
    "        messagebox.showinfo(\"Hello\",\"Welcome! Jahnavi\")\n",
    "    elif Username==\"Vennela\" and Password==\"1234\":\n",
    "        messagebox.showinfo(\"Hello\",\"Welcome! Vennela\")\n",
    "    else:\n",
    "        messagebox.showwarning(\"Hello\",\"Incorrect Username/Password\")\n",
    "C.create_text(70,60,text=\"Username\",font=\"Helvetica 12\")\n",
    "C.create_text(70,90,text=\"Password\",font=\"Helvetica 12\")\n",
    "#L1=Label(window,text=\"Username\",font=\"Arial 9\")\n",
    "#L2=Label(window,text=\"Password\",font=\"Arial 9\")\n",
    "#L1.place(x=50,y=50)\n",
    "#L2.place(x=50,y=80)\n",
    "E1=Entry(window,bg=\"aliceblue\")\n",
    "E2=Entry(window,bg=\"cornsilk\")\n",
    "E1.place(x=120,y=50)\n",
    "E2.place(x=120,y=80)\n",
    "Cb=Checkbutton(window,text=\"*I agree to the terms and conditions\",fg=\"black\")\n",
    "Cb.place(x=40,y=120)\n",
    "B=Button(window,text=\"Submit\",relief=RAISED,activebackground=\"gray\",command=fun)\n",
    "B.place(x=200,y=150)"
   ]
  },
  {
   "cell_type": "code",
   "execution_count": null,
   "id": "f70abe23",
   "metadata": {},
   "outputs": [],
   "source": [
    "window.mainloop()"
   ]
  },
  {
   "cell_type": "markdown",
   "id": "3ef35894",
   "metadata": {},
   "source": [
    "# Creating Frame"
   ]
  },
  {
   "cell_type": "code",
   "execution_count": 1,
   "id": "dba5c739",
   "metadata": {},
   "outputs": [],
   "source": [
    "from tkinter import *"
   ]
  },
  {
   "cell_type": "code",
   "execution_count": 4,
   "id": "638f3b01",
   "metadata": {},
   "outputs": [],
   "source": [
    "window=Tk()\n",
    "window.title(\"Frame\")\n",
    "window.geometry(\"500x400\")\n",
    "F=Frame(window)\n",
    "F.pack()\n",
    "LF=Frame(window)  \n",
    "LF.pack(side=LEFT)  \n",
    "RF=Frame(window)  \n",
    "RF.pack(side=RIGHT)\n",
    "B1=Button(F,text=\"Start\")\n",
    "B1.pack(side=LEFT)\n",
    "B2=Button(F,text=\"Stop\")\n",
    "B2.pack(side=RIGHT)\n",
    "B3=Button(LF,text=\"Start\")\n",
    "B3.pack()\n",
    "B4=Button(RF,text=\"Stop\")\n",
    "B4.pack()"
   ]
  },
  {
   "cell_type": "code",
   "execution_count": 5,
   "id": "019b317b",
   "metadata": {},
   "outputs": [],
   "source": [
    "window.mainloop()"
   ]
  },
  {
   "cell_type": "markdown",
   "id": "cc16c6f1",
   "metadata": {},
   "source": [
    "# Creating Label"
   ]
  },
  {
   "cell_type": "code",
   "execution_count": 1,
   "id": "c904bd40",
   "metadata": {},
   "outputs": [],
   "source": [
    "from tkinter import *"
   ]
  },
  {
   "cell_type": "code",
   "execution_count": 2,
   "id": "9a0a02a8",
   "metadata": {},
   "outputs": [],
   "source": [
    "window=Tk()\n",
    "window.title(\"Label\")\n",
    "window.geometry(\"700x500\")\n",
    "L1=Label(window,text=\"Hello World!\", font=\"Times 9 bold\",bg=\"red\",fg=\"gold\")\n",
    "L2=Label(window,text=\"This is label widget in Tkinter\",font=\"Helvetica 9 underline\",bg=\"blue\",fg=\"white\")\n",
    "L3=Label(window,text=\"And we are using 'grid' method to position the label on the window\",\n",
    "         font=\"Broadway 9 italic\",bg=\"green\",fg=\"darkgrey\")\n",
    "L1.grid(row=0,column=1)\n",
    "L2.grid(row=1,column=2)\n",
    "L3.grid(row=2,column=3)"
   ]
  },
  {
   "cell_type": "code",
   "execution_count": 3,
   "id": "9385684f",
   "metadata": {},
   "outputs": [],
   "source": [
    "window.mainloop()"
   ]
  },
  {
   "cell_type": "markdown",
   "id": "2af8e314",
   "metadata": {},
   "source": [
    "# Creating Listbox"
   ]
  },
  {
   "cell_type": "code",
   "execution_count": 1,
   "id": "cd7c461f",
   "metadata": {},
   "outputs": [],
   "source": [
    "from tkinter import *"
   ]
  },
  {
   "cell_type": "code",
   "execution_count": 2,
   "id": "ab7a8a55",
   "metadata": {},
   "outputs": [
    {
     "name": "stdout",
     "output_type": "stream",
     "text": [
      "10\n",
      "('Checkbutton', 'Entry', 'Frame', 'Label', 'Listbox', 'Menubutton', 'Menu')\n"
     ]
    }
   ],
   "source": [
    "window=Tk()\n",
    "window.title(\"Listbox\")\n",
    "window.geometry(\"500x400\")\n",
    "L=Label(window,text=\"List of first 10 Widgets in Tkinter\",font=\"Times 12 bold\")\n",
    "Lb=Listbox(window,bg=\"Black\",fg=\"Gold\",selectmode=BROWSE,relief=RAISED,width=20,height=20,selectbackground=\"silver\")\n",
    "Lb.insert(0,\"Button\",\"Canvas\",\"Checkbutton\",\"Entry\",\"Frame\",\"Label\",\"Listbox\",\"Menubutton\",\"Menu\",\"Message\")\n",
    "count=Lb.size()\n",
    "print(count)\n",
    "items=Lb.get(2,8) # .get(Start Index , End Index)\n",
    "print(items)\n",
    "L.pack()\n",
    "Lb.pack()"
   ]
  },
  {
   "cell_type": "code",
   "execution_count": 3,
   "id": "f31a1eba",
   "metadata": {},
   "outputs": [],
   "source": [
    "window.mainloop()"
   ]
  },
  {
   "cell_type": "markdown",
   "id": "b72be456",
   "metadata": {},
   "source": [
    "# Creating Menu"
   ]
  },
  {
   "cell_type": "code",
   "execution_count": 1,
   "id": "a6d01420",
   "metadata": {},
   "outputs": [],
   "source": [
    "from tkinter import *"
   ]
  },
  {
   "cell_type": "code",
   "execution_count": 2,
   "id": "68bf749f",
   "metadata": {},
   "outputs": [],
   "source": [
    "window=Tk()\n",
    "window.title(\"Menu\")\n",
    "window.geometry(\"500x400\")\n",
    "M=Menu(window)\n",
    "File=Menu(M,tearoff=False)\n",
    "File.add_command(label=\"New\")\n",
    "File.add_command(label=\"Open\")\n",
    "File.add_separator()\n",
    "File.add_command(label=\"Save\")\n",
    "File.add_command(label=\"Save As\")\n",
    "File.add_command(label=\"Print\")\n",
    "Edit=Menu(M,tearoff=False)\n",
    "Edit.add_command(label=\"Undo\")\n",
    "Edit.add_command(label=\"Redo\")\n",
    "Edit.add_separator()\n",
    "Edit.add_command(label=\"Cut\")\n",
    "Edit.add_command(label=\"Copy\")\n",
    "Edit.add_command(label=\"Paste\")\n",
    "M.add_cascade(label=\"File\", menu=File)  \n",
    "M.add_cascade(label=\"Edit\", menu=Edit)  \n",
    "window.config(menu=M)"
   ]
  },
  {
   "cell_type": "code",
   "execution_count": 3,
   "id": "4a2c1574",
   "metadata": {},
   "outputs": [],
   "source": [
    "M.mainloop()"
   ]
  },
  {
   "cell_type": "markdown",
   "id": "ccbbae34",
   "metadata": {},
   "source": [
    "# Creating Menubutton"
   ]
  },
  {
   "cell_type": "code",
   "execution_count": 1,
   "id": "ce26acc6",
   "metadata": {},
   "outputs": [],
   "source": [
    "from tkinter import *"
   ]
  },
  {
   "cell_type": "code",
   "execution_count": 2,
   "id": "734cd54b",
   "metadata": {},
   "outputs": [],
   "source": [
    "window=Tk()\n",
    "window.title(\"Menubutton\")\n",
    "window.geometry(\"500x400\")\n",
    "Mb1=Menubutton(window,text=\"Language\",relief=RAISED,font=\"Times 9 underline\")\n",
    "Mb2=Menubutton(window,text=\"Genre\",relief=SUNKEN,font=\"Times 9 italic\")\n",
    "MB1=Menu(Mb1,tearoff=False)\n",
    "MB2=Menu(Mb2,tearoff=False)\n",
    "Mb1[\"menu\"]=MB1\n",
    "Mb2[\"menu\"]=MB2\n",
    "MB1.add_command(label=\"Telugu\")\n",
    "MB1.add_command(label=\"Hindi\")\n",
    "MB1.add_command(label=\"English\")\n",
    "MB1.add_command(label=\"French\")\n",
    "MB1.add_command(label=\"Spanish\")\n",
    "MB2.add_command(label=\"Drama\")\n",
    "MB2.add_command(label=\"Action\")\n",
    "MB2.add_command(label=\"Advenure\")\n",
    "MB2.add_command(label=\"Sci-fi\")\n",
    "MB2.add_command(label=\"Fantasy\")\n",
    "Mb1.grid(row=0,column=1)\n",
    "Mb2.grid(row=0,column=2)"
   ]
  },
  {
   "cell_type": "code",
   "execution_count": 3,
   "id": "950ffa0a",
   "metadata": {},
   "outputs": [],
   "source": [
    "window.mainloop()"
   ]
  },
  {
   "cell_type": "markdown",
   "id": "582d2252",
   "metadata": {},
   "source": [
    "# Creating Message"
   ]
  },
  {
   "cell_type": "code",
   "execution_count": 1,
   "id": "1f2314e5",
   "metadata": {},
   "outputs": [],
   "source": [
    "from tkinter import *"
   ]
  },
  {
   "cell_type": "code",
   "execution_count": 2,
   "id": "f3210a84",
   "metadata": {},
   "outputs": [],
   "source": [
    "window=Tk()\n",
    "window.title(\"Message\")\n",
    "window.geometry(\"300x200\")\n",
    "M=Message(window,text=\"Hello world!\")\n",
    "M.pack()"
   ]
  },
  {
   "cell_type": "code",
   "execution_count": 3,
   "id": "574ace4e",
   "metadata": {},
   "outputs": [],
   "source": [
    "window.mainloop()"
   ]
  },
  {
   "cell_type": "markdown",
   "id": "b21e8bb8",
   "metadata": {},
   "source": [
    "# Creating Radiobutton"
   ]
  },
  {
   "cell_type": "code",
   "execution_count": 1,
   "id": "0d80ccaa",
   "metadata": {},
   "outputs": [],
   "source": [
    "from tkinter import *\n",
    "from tkinter import messagebox\n",
    "from tkinter import PhotoImage"
   ]
  },
  {
   "cell_type": "code",
   "execution_count": 2,
   "id": "4f274c49",
   "metadata": {},
   "outputs": [],
   "source": [
    "def message():  \n",
    "   selection = \"The answer is option \" + str(var.get())  \n",
    "   L2.config(text = selection)\n",
    "window=Tk()\n",
    "window.title(\"Radiobutton\")\n",
    "window.geometry(\"300x200\")\n",
    "L=Label(window,text=\"Who is the topper\")\n",
    "L.pack()\n",
    "var=IntVar()\n",
    "Rb1=Radiobutton(window,text=\"Abhishek\",variable=var,value=1,command=message)\n",
    "Rb2=Radiobutton(window,text=\"Shimlan\",variable=var,value=2,command=message)\n",
    "L2=Label(window)\n",
    "L2.pack()\n",
    "Rb1.pack()\n",
    "Rb2.pack()"
   ]
  },
  {
   "cell_type": "code",
   "execution_count": 3,
   "id": "ac8da439",
   "metadata": {},
   "outputs": [],
   "source": [
    "window.mainloop()"
   ]
  },
  {
   "cell_type": "markdown",
   "id": "bcc172d7",
   "metadata": {},
   "source": [
    "# Creating Scale"
   ]
  },
  {
   "cell_type": "code",
   "execution_count": 1,
   "id": "d22a9225",
   "metadata": {},
   "outputs": [],
   "source": [
    "from tkinter import *"
   ]
  },
  {
   "cell_type": "code",
   "execution_count": 2,
   "id": "72f01f0e",
   "metadata": {},
   "outputs": [],
   "source": [
    "window=Tk()\n",
    "window.title(\"Scale\")\n",
    "window.geometry(\"300x200\")\n",
    "var=DoubleVar()\n",
    "S1=Scale(window,from_=0,to=100)\n",
    "S2=Scale(window,from_=100,to=200,orient=HORIZONTAL)\n",
    "S1.pack()\n",
    "S2.pack()"
   ]
  },
  {
   "cell_type": "code",
   "execution_count": 3,
   "id": "9229d6b6",
   "metadata": {},
   "outputs": [],
   "source": [
    "window.mainloop()"
   ]
  },
  {
   "cell_type": "markdown",
   "id": "920be53f",
   "metadata": {},
   "source": [
    "# Creating Scrollbar"
   ]
  },
  {
   "cell_type": "code",
   "execution_count": 1,
   "id": "56e58d94",
   "metadata": {},
   "outputs": [],
   "source": [
    "from tkinter import *"
   ]
  },
  {
   "cell_type": "code",
   "execution_count": 2,
   "id": "79629dc3",
   "metadata": {},
   "outputs": [],
   "source": [
    "window=Tk()\n",
    "window.title(\"Scrollbar\")\n",
    "window.geometry(\"300x200\")\n",
    "S=Scrollbar(window)\n",
    "S.pack(side=RIGHT,fill=Y)\n",
    "Lb=Listbox(window,bg=\"Black\",fg=\"Gold\",selectmode=BROWSE,relief=RAISED,width=20,height=20,\n",
    "           selectbackground=\"silver\",yscrollcommand=S.set)\n",
    "Lb.pack()\n",
    "for i in range(100):\n",
    "    Lb.insert(END, f\"Item {i+1}\")"
   ]
  },
  {
   "cell_type": "code",
   "execution_count": 3,
   "id": "b5e0753d",
   "metadata": {},
   "outputs": [],
   "source": [
    "window.mainloop()"
   ]
  },
  {
   "cell_type": "markdown",
   "id": "ebb0d17f",
   "metadata": {},
   "source": [
    "# Creating Text"
   ]
  },
  {
   "cell_type": "code",
   "execution_count": 1,
   "id": "f15f2c50",
   "metadata": {},
   "outputs": [],
   "source": [
    "from tkinter import *"
   ]
  },
  {
   "cell_type": "code",
   "execution_count": 2,
   "id": "6d160bf9",
   "metadata": {},
   "outputs": [],
   "source": [
    "window=Tk()\n",
    "window.title(\"Text\")\n",
    "window.geometry(\"700x450\")\n",
    "def get_text():\n",
    "    text=T.get(\"1.0\",\"end\") #.get(start Index, End Index)\n",
    "    print(text)\n",
    "T=Text(window)\n",
    "T.pack()\n",
    "B=Button(window, text=\"Print text\",command=get_text)\n",
    "B.pack()"
   ]
  },
  {
   "cell_type": "code",
   "execution_count": 3,
   "id": "d1b4fe28",
   "metadata": {},
   "outputs": [
    {
     "name": "stdout",
     "output_type": "stream",
     "text": [
      "Hi \n",
      "My name is shimlan and you can't even express me in words \n",
      "\n"
     ]
    }
   ],
   "source": [
    "window.mainloop()"
   ]
  },
  {
   "cell_type": "markdown",
   "id": "772d60fb",
   "metadata": {},
   "source": [
    "# Creating Toplevel"
   ]
  },
  {
   "cell_type": "code",
   "execution_count": 1,
   "id": "6e98304c",
   "metadata": {},
   "outputs": [],
   "source": [
    "from tkinter import *"
   ]
  },
  {
   "cell_type": "code",
   "execution_count": 2,
   "id": "cb3680f7",
   "metadata": {},
   "outputs": [],
   "source": [
    "window=Tk()\n",
    "window.title(\"Toplevel\")\n",
    "window.geometry(\"400x300\")\n",
    "def open():  \n",
    "    top=Toplevel(window)  \n",
    "    top.mainloop()  \n",
    "B=Button(window,text=\"open\",command=open)\n",
    "B.place(x=200,y=150)"
   ]
  },
  {
   "cell_type": "code",
   "execution_count": 3,
   "id": "4f42bbdd",
   "metadata": {},
   "outputs": [],
   "source": [
    "window.mainloop()"
   ]
  },
  {
   "cell_type": "markdown",
   "id": "a2192f15",
   "metadata": {},
   "source": [
    "# Creating Spinbox"
   ]
  },
  {
   "cell_type": "code",
   "execution_count": 1,
   "id": "aa559d91",
   "metadata": {},
   "outputs": [],
   "source": [
    "from tkinter import *"
   ]
  },
  {
   "cell_type": "code",
   "execution_count": 2,
   "id": "b03b777d",
   "metadata": {},
   "outputs": [],
   "source": [
    "window=Tk()\n",
    "window.title(\"Spinbox\")\n",
    "window.geometry(\"300x200\")\n",
    "Sb=Spinbox(window,from_=0,to=10)\n",
    "Sb.pack()"
   ]
  },
  {
   "cell_type": "code",
   "execution_count": 3,
   "id": "c9ca6199",
   "metadata": {},
   "outputs": [],
   "source": [
    "window.mainloop()"
   ]
  },
  {
   "cell_type": "markdown",
   "id": "9a907652",
   "metadata": {},
   "source": [
    "# Creating PanedWindow"
   ]
  },
  {
   "cell_type": "code",
   "execution_count": 1,
   "id": "6dc987d9",
   "metadata": {},
   "outputs": [],
   "source": [
    "from tkinter import *"
   ]
  },
  {
   "cell_type": "code",
   "execution_count": 2,
   "id": "3f165708",
   "metadata": {},
   "outputs": [],
   "source": [
    "window=Tk()\n",
    "def add():  \n",
    "    a = int(e1.get())  \n",
    "    b = int(e2.get())  \n",
    "    leftdata = str(a+b)  \n",
    "    left.insert(1,leftdata)  \n",
    "w1 = PanedWindow()  \n",
    "w1.pack(fill = BOTH, expand = 1)  \n",
    "left = Entry(w1, bd = 5)  \n",
    "w1.add(left)  \n",
    "w2 = PanedWindow(w1, orient = VERTICAL)  \n",
    "w1.add(w2)  \n",
    "e1 = Entry(w2)  \n",
    "e2 = Entry(w2)  \n",
    "w2.add(e1)  \n",
    "w2.add(e2)  \n",
    "bottom = Button(w2, text = \"Add\", command = add)  \n",
    "w2.add(bottom)  "
   ]
  },
  {
   "cell_type": "code",
   "execution_count": 3,
   "id": "d63347a9",
   "metadata": {},
   "outputs": [],
   "source": [
    "window.mainloop()"
   ]
  },
  {
   "cell_type": "markdown",
   "id": "95969725",
   "metadata": {},
   "source": [
    "# Creating LabelFrame"
   ]
  },
  {
   "cell_type": "code",
   "execution_count": 1,
   "id": "8090d2c0",
   "metadata": {},
   "outputs": [],
   "source": [
    "from tkinter import *"
   ]
  },
  {
   "cell_type": "code",
   "execution_count": 2,
   "id": "4de70e46",
   "metadata": {},
   "outputs": [],
   "source": [
    "window=Tk()\n",
    "window.title(\"Labelframe\")\n",
    "window.geometry(\"300x200\")\n",
    "label_frame=LabelFrame(window, text=\"My LabelFrame\")\n",
    "label_frame.pack(padx=10, pady=10)\n",
    "label=Label(label_frame, text=\"This is a label inside the LabelFrame\")\n",
    "label.pack(padx=5, pady=5)\n",
    "button=Button(label_frame, text=\"Click Me\")\n",
    "button.pack(padx=5, pady=5)"
   ]
  },
  {
   "cell_type": "code",
   "execution_count": 3,
   "id": "1456e811",
   "metadata": {},
   "outputs": [],
   "source": [
    "window.mainloop()"
   ]
  },
  {
   "cell_type": "markdown",
   "id": "a09a37ff",
   "metadata": {},
   "source": [
    "# Creating Messagebox"
   ]
  },
  {
   "cell_type": "code",
   "execution_count": 1,
   "id": "33915ab2",
   "metadata": {},
   "outputs": [],
   "source": [
    "from tkinter import *\n",
    "from tkinter import messagebox"
   ]
  },
  {
   "cell_type": "code",
   "execution_count": 2,
   "id": "879a30ba",
   "metadata": {},
   "outputs": [],
   "source": [
    "window=Tk()\n",
    "window.title(\"My App\")\n",
    "window.geometry(\"500x500\")\n",
    "label=Label(window,text=\"Who is the TOPPER ?\")\n",
    "label.pack()\n",
    "def message1():\n",
    "    messagebox.showwarning(\"Hello\",\"Abhishek is not the Topper\")\n",
    "def message2():\n",
    "    messagebox.showinfo(\"Hello\",\"Jahnavi is the Topper\")\n",
    "def message3():\n",
    "    messagebox.showerror(\"Hello\",\"Shimlan is not the Topper\")\n",
    "def message4():\n",
    "    messagebox.showwarning(\"Hello\",\"Vennela is not the Topper\")\n",
    "B1=Button(window,text=\"Abhi\",width=4,height=2,relief=GROOVE,command=message1,activebackground=\"red\",\n",
    "          activeforeground=\"black\",bg=\"blue\",fg=\"gold\",bd=3,font=\"Broadway 14 underline\",cursor=\"circle\")\n",
    "\n",
    "B2=Button(window,text=\"Jahnavi\",relief=SUNKEN,command=message2,activebackground=\"Green\",\n",
    "          activeforeground=\"black\",bg=\"blue\",fg=\"gold\",bd=3,font=\"Magneto 15\",padx=20,pady=20,cursor=\"man\")\n",
    "\n",
    "B3=Button(window,text=\"Shimlan\",relief=RAISED,command=message3,activebackground=\"white\",\n",
    "          activeforeground=\"black\",bg=\"blue\",fg=\"gold\",bd=3,font=\"Times 14 italic\",state=ACTIVE,cursor=\"star\")\n",
    "\n",
    "B4=Button(window,text=\"Vennela\",relief=RIDGE,command=message4,activebackground=\"pink\",\n",
    "          activeforeground=\"black\",bg=\"blue\",fg=\"gold\",bd=3,font=\"Algerian 16 bold\",cursor=\"target\")\n",
    "B1.pack()\n",
    "B2.pack()\n",
    "B3.pack()\n",
    "B4.pack()"
   ]
  },
  {
   "cell_type": "code",
   "execution_count": 3,
   "id": "53de48ca",
   "metadata": {},
   "outputs": [],
   "source": [
    "window.mainloop()"
   ]
  },
  {
   "cell_type": "code",
   "execution_count": null,
   "id": "f0e25ab7",
   "metadata": {},
   "outputs": [],
   "source": []
  }
 ],
 "metadata": {
  "kernelspec": {
   "display_name": "Python 3 (ipykernel)",
   "language": "python",
   "name": "python3"
  },
  "language_info": {
   "codemirror_mode": {
    "name": "ipython",
    "version": 3
   },
   "file_extension": ".py",
   "mimetype": "text/x-python",
   "name": "python",
   "nbconvert_exporter": "python",
   "pygments_lexer": "ipython3",
   "version": "3.11.4"
  }
 },
 "nbformat": 4,
 "nbformat_minor": 5
}
